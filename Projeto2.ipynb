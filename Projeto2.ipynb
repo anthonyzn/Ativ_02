{
 "cells": [
  {
   "cell_type": "code",
   "execution_count": 1,
   "id": "9bd07d9f-34e7-4998-9b60-3811495aeedc",
   "metadata": {},
   "outputs": [],
   "source": [
    "import pandas as pd"
   ]
  },
  {
   "cell_type": "code",
   "execution_count": 2,
   "id": "2893c5a3-8c43-4df0-83ee-9b38672de3a9",
   "metadata": {},
   "outputs": [],
   "source": [
    "microdados = pd.read_csv(\"MICRODADOS_ENEM_2022.csv\", sep=\";\", encoding='ISO-8859-1')"
   ]
  },
  {
   "cell_type": "code",
   "execution_count": 3,
   "id": "3d454e9e",
   "metadata": {},
   "outputs": [
    {
     "data": {
      "text/plain": [
       "array(['NU_INSCRICAO', 'NU_ANO', 'TP_FAIXA_ETARIA', 'TP_SEXO',\n",
       "       'TP_ESTADO_CIVIL', 'TP_COR_RACA', 'TP_NACIONALIDADE',\n",
       "       'TP_ST_CONCLUSAO', 'TP_ANO_CONCLUIU', 'TP_ESCOLA', 'TP_ENSINO',\n",
       "       'IN_TREINEIRO', 'CO_MUNICIPIO_ESC', 'NO_MUNICIPIO_ESC',\n",
       "       'CO_UF_ESC', 'SG_UF_ESC', 'TP_DEPENDENCIA_ADM_ESC',\n",
       "       'TP_LOCALIZACAO_ESC', 'TP_SIT_FUNC_ESC', 'CO_MUNICIPIO_PROVA',\n",
       "       'NO_MUNICIPIO_PROVA', 'CO_UF_PROVA', 'SG_UF_PROVA',\n",
       "       'TP_PRESENCA_CN', 'TP_PRESENCA_CH', 'TP_PRESENCA_LC',\n",
       "       'TP_PRESENCA_MT', 'CO_PROVA_CN', 'CO_PROVA_CH', 'CO_PROVA_LC',\n",
       "       'CO_PROVA_MT', 'NU_NOTA_CN', 'NU_NOTA_CH', 'NU_NOTA_LC',\n",
       "       'NU_NOTA_MT', 'TX_RESPOSTAS_CN', 'TX_RESPOSTAS_CH',\n",
       "       'TX_RESPOSTAS_LC', 'TX_RESPOSTAS_MT', 'TP_LINGUA',\n",
       "       'TX_GABARITO_CN', 'TX_GABARITO_CH', 'TX_GABARITO_LC',\n",
       "       'TX_GABARITO_MT', 'TP_STATUS_REDACAO', 'NU_NOTA_COMP1',\n",
       "       'NU_NOTA_COMP2', 'NU_NOTA_COMP3', 'NU_NOTA_COMP4', 'NU_NOTA_COMP5',\n",
       "       'NU_NOTA_REDACAO', 'Q001', 'Q002', 'Q003', 'Q004', 'Q005', 'Q006',\n",
       "       'Q007', 'Q008', 'Q009', 'Q010', 'Q011', 'Q012', 'Q013', 'Q014',\n",
       "       'Q015', 'Q016', 'Q017', 'Q018', 'Q019', 'Q020', 'Q021', 'Q022',\n",
       "       'Q023', 'Q024', 'Q025'], dtype=object)"
      ]
     },
     "execution_count": 3,
     "metadata": {},
     "output_type": "execute_result"
    }
   ],
   "source": [
    "#Listando os valores de colunas\n",
    "microdados.columns.values"
   ]
  },
  {
   "cell_type": "code",
   "execution_count": 4,
   "id": "f58f8398",
   "metadata": {},
   "outputs": [],
   "source": [
    "#Aqui, tenho somente as colunas que quero trabalhar na análise\n",
    "colunasselecionadas = ['NU_INSCRICAO', 'TP_FAIXA_ETARIA', 'TP_SEXO', 'TP_COR_RACA', 'TP_ESCOLA',\n",
    "       'IN_TREINEIRO', 'NO_MUNICIPIO_ESC', 'SG_UF_ESC',\n",
    "       'NO_MUNICIPIO_PROVA', 'TP_STATUS_REDACAO', 'NU_NOTA_COMP1',\n",
    "       'NU_NOTA_COMP2', 'NU_NOTA_COMP3', 'NU_NOTA_COMP4', 'NU_NOTA_COMP5',\n",
    "       'NU_NOTA_REDACAO','Q024', 'Q025']"
   ]
  },
  {
   "cell_type": "code",
   "execution_count": 5,
   "id": "4f1970fa",
   "metadata": {},
   "outputs": [],
   "source": [
    "#REQUISITO 1: Usando o filter\n",
    "microdadosEnem = microdados.filter(items=colunasselecionadas)"
   ]
  },
  {
   "cell_type": "code",
   "execution_count": 6,
   "id": "e157d649",
   "metadata": {},
   "outputs": [
    {
     "data": {
      "text/html": [
       "<div>\n",
       "<style scoped>\n",
       "    .dataframe tbody tr th:only-of-type {\n",
       "        vertical-align: middle;\n",
       "    }\n",
       "\n",
       "    .dataframe tbody tr th {\n",
       "        vertical-align: top;\n",
       "    }\n",
       "\n",
       "    .dataframe thead th {\n",
       "        text-align: right;\n",
       "    }\n",
       "</style>\n",
       "<table border=\"1\" class=\"dataframe\">\n",
       "  <thead>\n",
       "    <tr style=\"text-align: right;\">\n",
       "      <th></th>\n",
       "      <th>NU_INSCRICAO</th>\n",
       "      <th>TP_FAIXA_ETARIA</th>\n",
       "      <th>TP_SEXO</th>\n",
       "      <th>TP_COR_RACA</th>\n",
       "      <th>TP_ESCOLA</th>\n",
       "      <th>IN_TREINEIRO</th>\n",
       "      <th>NO_MUNICIPIO_ESC</th>\n",
       "      <th>SG_UF_ESC</th>\n",
       "      <th>NO_MUNICIPIO_PROVA</th>\n",
       "      <th>TP_STATUS_REDACAO</th>\n",
       "      <th>NU_NOTA_COMP1</th>\n",
       "      <th>NU_NOTA_COMP2</th>\n",
       "      <th>NU_NOTA_COMP3</th>\n",
       "      <th>NU_NOTA_COMP4</th>\n",
       "      <th>NU_NOTA_COMP5</th>\n",
       "      <th>NU_NOTA_REDACAO</th>\n",
       "      <th>Q024</th>\n",
       "      <th>Q025</th>\n",
       "    </tr>\n",
       "  </thead>\n",
       "  <tbody>\n",
       "    <tr>\n",
       "      <th>0</th>\n",
       "      <td>210057943671</td>\n",
       "      <td>14</td>\n",
       "      <td>M</td>\n",
       "      <td>2</td>\n",
       "      <td>1</td>\n",
       "      <td>0</td>\n",
       "      <td>NaN</td>\n",
       "      <td>NaN</td>\n",
       "      <td>Brasília</td>\n",
       "      <td>NaN</td>\n",
       "      <td>NaN</td>\n",
       "      <td>NaN</td>\n",
       "      <td>NaN</td>\n",
       "      <td>NaN</td>\n",
       "      <td>NaN</td>\n",
       "      <td>NaN</td>\n",
       "      <td>A</td>\n",
       "      <td>A</td>\n",
       "    </tr>\n",
       "    <tr>\n",
       "      <th>1</th>\n",
       "      <td>210057516120</td>\n",
       "      <td>14</td>\n",
       "      <td>M</td>\n",
       "      <td>1</td>\n",
       "      <td>1</td>\n",
       "      <td>0</td>\n",
       "      <td>NaN</td>\n",
       "      <td>NaN</td>\n",
       "      <td>Brasília</td>\n",
       "      <td>NaN</td>\n",
       "      <td>NaN</td>\n",
       "      <td>NaN</td>\n",
       "      <td>NaN</td>\n",
       "      <td>NaN</td>\n",
       "      <td>NaN</td>\n",
       "      <td>NaN</td>\n",
       "      <td>E</td>\n",
       "      <td>B</td>\n",
       "    </tr>\n",
       "    <tr>\n",
       "      <th>2</th>\n",
       "      <td>210057280536</td>\n",
       "      <td>5</td>\n",
       "      <td>F</td>\n",
       "      <td>2</td>\n",
       "      <td>1</td>\n",
       "      <td>0</td>\n",
       "      <td>NaN</td>\n",
       "      <td>NaN</td>\n",
       "      <td>Presidente Tancredo Neves</td>\n",
       "      <td>1.0</td>\n",
       "      <td>140.0</td>\n",
       "      <td>200.0</td>\n",
       "      <td>120.0</td>\n",
       "      <td>140.0</td>\n",
       "      <td>160.0</td>\n",
       "      <td>760.0</td>\n",
       "      <td>A</td>\n",
       "      <td>B</td>\n",
       "    </tr>\n",
       "    <tr>\n",
       "      <th>3</th>\n",
       "      <td>210055724397</td>\n",
       "      <td>6</td>\n",
       "      <td>M</td>\n",
       "      <td>3</td>\n",
       "      <td>1</td>\n",
       "      <td>0</td>\n",
       "      <td>NaN</td>\n",
       "      <td>NaN</td>\n",
       "      <td>Cariacica</td>\n",
       "      <td>1.0</td>\n",
       "      <td>120.0</td>\n",
       "      <td>40.0</td>\n",
       "      <td>40.0</td>\n",
       "      <td>100.0</td>\n",
       "      <td>20.0</td>\n",
       "      <td>320.0</td>\n",
       "      <td>B</td>\n",
       "      <td>B</td>\n",
       "    </tr>\n",
       "    <tr>\n",
       "      <th>4</th>\n",
       "      <td>210055097896</td>\n",
       "      <td>4</td>\n",
       "      <td>M</td>\n",
       "      <td>3</td>\n",
       "      <td>1</td>\n",
       "      <td>0</td>\n",
       "      <td>NaN</td>\n",
       "      <td>NaN</td>\n",
       "      <td>Salinópolis</td>\n",
       "      <td>NaN</td>\n",
       "      <td>NaN</td>\n",
       "      <td>NaN</td>\n",
       "      <td>NaN</td>\n",
       "      <td>NaN</td>\n",
       "      <td>NaN</td>\n",
       "      <td>NaN</td>\n",
       "      <td>A</td>\n",
       "      <td>A</td>\n",
       "    </tr>\n",
       "  </tbody>\n",
       "</table>\n",
       "</div>"
      ],
      "text/plain": [
       "   NU_INSCRICAO  TP_FAIXA_ETARIA TP_SEXO  TP_COR_RACA  TP_ESCOLA  \\\n",
       "0  210057943671               14       M            2          1   \n",
       "1  210057516120               14       M            1          1   \n",
       "2  210057280536                5       F            2          1   \n",
       "3  210055724397                6       M            3          1   \n",
       "4  210055097896                4       M            3          1   \n",
       "\n",
       "   IN_TREINEIRO NO_MUNICIPIO_ESC SG_UF_ESC         NO_MUNICIPIO_PROVA  \\\n",
       "0             0              NaN       NaN                   Brasília   \n",
       "1             0              NaN       NaN                   Brasília   \n",
       "2             0              NaN       NaN  Presidente Tancredo Neves   \n",
       "3             0              NaN       NaN                  Cariacica   \n",
       "4             0              NaN       NaN                Salinópolis   \n",
       "\n",
       "   TP_STATUS_REDACAO  NU_NOTA_COMP1  NU_NOTA_COMP2  NU_NOTA_COMP3  \\\n",
       "0                NaN            NaN            NaN            NaN   \n",
       "1                NaN            NaN            NaN            NaN   \n",
       "2                1.0          140.0          200.0          120.0   \n",
       "3                1.0          120.0           40.0           40.0   \n",
       "4                NaN            NaN            NaN            NaN   \n",
       "\n",
       "   NU_NOTA_COMP4  NU_NOTA_COMP5  NU_NOTA_REDACAO Q024 Q025  \n",
       "0            NaN            NaN              NaN    A    A  \n",
       "1            NaN            NaN              NaN    E    B  \n",
       "2          140.0          160.0            760.0    A    B  \n",
       "3          100.0           20.0            320.0    B    B  \n",
       "4            NaN            NaN              NaN    A    A  "
      ]
     },
     "execution_count": 6,
     "metadata": {},
     "output_type": "execute_result"
    }
   ],
   "source": [
    "microdadosEnem.head()"
   ]
  },
  {
   "cell_type": "markdown",
   "id": "7b487b69",
   "metadata": {},
   "source": [
    "PERGUNTA 1: Qual a lista de todos os inscritos por Estado da Federação?"
   ]
  },
  {
   "cell_type": "code",
   "execution_count": 7,
   "id": "ac616e2d",
   "metadata": {},
   "outputs": [
    {
     "data": {
      "text/plain": [
       "SG_UF_ESC\n",
       "SP    184295\n",
       "CE    102972\n",
       "MG     68869\n",
       "RJ     68435\n",
       "PR     50307\n",
       "GO     47563\n",
       "BA     44483\n",
       "PE     43562\n",
       "RS     41842\n",
       "PA     34897\n",
       "SC     31316\n",
       "AM     27737\n",
       "MA     27679\n",
       "PB     21483\n",
       "ES     19998\n",
       "DF     19348\n",
       "MT     16877\n",
       "RN     16701\n",
       "PI     16296\n",
       "AL     15685\n",
       "MS     13105\n",
       "SE     10802\n",
       "RO      9687\n",
       "TO      7626\n",
       "AC      4291\n",
       "AP      3869\n",
       "RR      2219\n",
       "Name: count, dtype: int64"
      ]
     },
     "execution_count": 7,
     "metadata": {},
     "output_type": "execute_result"
    }
   ],
   "source": [
    "col_UF = microdadosEnem['SG_UF_ESC'] \n",
    "col_UF.value_counts()"
   ]
  },
  {
   "cell_type": "markdown",
   "id": "2c4a23b7",
   "metadata": {},
   "source": [
    "PERGUNTA 1.1: Quais são os 3 Estados da Federação com maior número de inscritos do ENEM?"
   ]
  },
  {
   "cell_type": "code",
   "execution_count": 8,
   "id": "53cb4534",
   "metadata": {},
   "outputs": [
    {
     "data": {
      "text/plain": [
       "SG_UF_ESC\n",
       "SP    184295\n",
       "CE    102972\n",
       "MG     68869\n",
       "Name: count, dtype: int64"
      ]
     },
     "execution_count": 8,
     "metadata": {},
     "output_type": "execute_result"
    }
   ],
   "source": [
    "col_UF.value_counts()\n",
    "col_UF.value_counts().head(3)"
   ]
  },
  {
   "cell_type": "markdown",
   "id": "379f47c8",
   "metadata": {},
   "source": [
    "Criando um gráfico para visualização do número de inscritos"
   ]
  },
  {
   "cell_type": "code",
   "execution_count": 9,
   "id": "3d08fa01",
   "metadata": {},
   "outputs": [
    {
     "data": {
      "image/png": "[encoded data removed]",
      "text/plain": [
       "<Figure size 1200x800 with 1 Axes>"
      ]
     },
     "metadata": {},
     "output_type": "display_data"
    }
   ],
   "source": [
    "#REQUISITO 2: Criando o Gráfico\n",
    "import matplotlib.pyplot as plt\n",
    "import numpy as np\n",
    "\n",
    "# Criando um DataFrame para organizar as informações de \"col_UF.value_counts()\"\n",
    "data_UF = {'SG_UF_ESC': ['SP', 'CE', 'MG', 'RJ', 'PR', 'GO', 'BA', 'PE', 'RS', 'PA', 'SC', 'AM', 'MA', 'PB', 'ES', 'DF', 'MT', 'RN', 'PI', 'AL', 'MS', 'SE', 'RO', 'TO', 'AC', 'AP', 'RR'],\n",
    "        'Inscritos': [184295, 102972, 68869, 68435, 50307, 47563, 44483, 43562, 41842, 34897, 31316, 27737, 27679, 21483, 19998, 19348, 16877, 16701, 16296, 15685, 13105, 10802, 9687, 7626, 4291, 3869, 2219]}\n",
    "\n",
    "df_UF = pd.DataFrame(data_UF)\n",
    "\n",
    "# Classificando pelo número de inscritos\n",
    "df_UF = df_UF.sort_values(by='Inscritos', ascending=False)\n",
    "\n",
    "# Criando gráfico de barras\n",
    "plt.figure(figsize=(12, 8))\n",
    "bars = plt.bar(df_UF['SG_UF_ESC'], df_UF['Inscritos'])\n",
    "plt.xlabel('Estados (SG_UF_ESC)')\n",
    "plt.ylabel('Inscritos (milhares)')\n",
    "plt.title('Distribuição de Inscrições no ENEM por Estado')\n",
    "plt.grid(True, axis='y', linestyle='--', linewidth=0.7)\n",
    "yt = np.arange(0, 185000, 10000)\n",
    "plt.yticks(yt)\n",
    "\n",
    "plt.show()\n"
   ]
  },
  {
   "cell_type": "markdown",
   "id": "f6999b85",
   "metadata": {},
   "source": [
    "PERGUNTA 2: Quais os municipios com mais inscritos no ENEM?"
   ]
  },
  {
   "cell_type": "code",
   "execution_count": 10,
   "id": "f1e2206e",
   "metadata": {},
   "outputs": [
    {
     "data": {
      "text/plain": [
       "NO_MUNICIPIO_PROVA\n",
       "São Paulo         147046\n",
       "Rio de Janeiro    105397\n",
       "Fortaleza          71714\n",
       "Brasília           65401\n",
       "Belém              59976\n",
       "Name: count, dtype: int64"
      ]
     },
     "execution_count": 10,
     "metadata": {},
     "output_type": "execute_result"
    }
   ],
   "source": [
    "col_MUNICIPIO = microdadosEnem['NO_MUNICIPIO_PROVA']\n",
    "col_MUNICIPIO.value_counts().head()"
   ]
  },
  {
   "cell_type": "markdown",
   "id": "7d2f27e7",
   "metadata": {},
   "source": [
    "PERGUNTA 3: Quais os municipios com mais inscritos no ENEM dentro do Estado de São Paulo?"
   ]
  },
  {
   "cell_type": "code",
   "execution_count": 11,
   "id": "cac3c03c",
   "metadata": {},
   "outputs": [
    {
     "data": {
      "text/plain": [
       "NO_MUNICIPIO_PROVA\n",
       "São Paulo                46199\n",
       "Guarulhos                 5786\n",
       "Campinas                  5189\n",
       "São Bernardo do Campo     4141\n",
       "Santo André               3741\n",
       "Name: count, dtype: int64"
      ]
     },
     "execution_count": 11,
     "metadata": {},
     "output_type": "execute_result"
    }
   ],
   "source": [
    "# Filtrando para incluir apenas os inscritos de São Paulo (SP)\n",
    "inscritos_sp = microdadosEnem[microdadosEnem['SG_UF_ESC'] == 'SP']\n",
    "col_MUNICIPIO = inscritos_sp.where(microdadosEnem['SG_UF_ESC'] == 'SP')\n",
    "\n",
    "ranking_cidades_sp = inscritos_sp['NO_MUNICIPIO_PROVA'].value_counts().head(5)\n",
    "ranking_cidades_sp"
   ]
  },
  {
   "cell_type": "markdown",
   "id": "7497150b",
   "metadata": {},
   "source": [
    "PERGUNTA 4: Se essas são as cidades com maior número de inscritos, qual a porcentagem que elas representam em relação ao resto do Estado?"
   ]
  },
  {
   "cell_type": "code",
   "execution_count": 12,
   "id": "7f3feecd",
   "metadata": {},
   "outputs": [
    {
     "data": {
      "text/plain": [
       "65056"
      ]
     },
     "execution_count": 12,
     "metadata": {},
     "output_type": "execute_result"
    }
   ],
   "source": [
    "#Requisito 3: Operações aritméticas\n",
    "#Somando o ranking de municipios\n",
    "soma_ranking_sp = ranking_cidades_sp.sum()\n",
    "soma_ranking_sp"
   ]
  },
  {
   "cell_type": "code",
   "execution_count": 13,
   "id": "82f70a41",
   "metadata": {},
   "outputs": [
    {
     "data": {
      "text/plain": [
       "119239"
      ]
     },
     "execution_count": 13,
     "metadata": {},
     "output_type": "execute_result"
    }
   ],
   "source": [
    "#Somando as outras cidades \n",
    "cidades = inscritos_sp['NO_MUNICIPIO_PROVA'].value_counts()\n",
    "outras_cidades = cidades.drop(['São Paulo', 'Guarulhos', 'Campinas', 'São Bernardo do Campo', 'Santo André'], axis=0)\n",
    "soma_outras_cidades = outras_cidades.sum()\n",
    "soma_outras_cidades"
   ]
  },
  {
   "cell_type": "markdown",
   "id": "02857bb2",
   "metadata": {},
   "source": [
    "A porcentagem representada pelo ranking das cinco cidades mais populosas é de: 35%"
   ]
  },
  {
   "cell_type": "code",
   "execution_count": 14,
   "id": "e0ebfc6f",
   "metadata": {},
   "outputs": [
    {
     "data": {
      "text/plain": [
       "35"
      ]
     },
     "execution_count": 14,
     "metadata": {},
     "output_type": "execute_result"
    }
   ],
   "source": [
    "num = (soma_outras_cidades + soma_ranking_sp)\n",
    "percent_ranking_sp = (soma_ranking_sp / num) * 100 \n",
    "percent_ranking_sp = percent_ranking_sp.astype(int)\n",
    "percent_ranking_sp "
   ]
  },
  {
   "cell_type": "markdown",
   "id": "9a1ad7f8",
   "metadata": {},
   "source": [
    "PERGUNTA 5: Qual a porcentagem de Treineiros no ENEM?"
   ]
  },
  {
   "cell_type": "code",
   "execution_count": 15,
   "id": "f4f3b510",
   "metadata": {},
   "outputs": [
    {
     "data": {
      "text/plain": [
       "IN_TREINEIRO\n",
       "0    2963373\n",
       "1     512732\n",
       "Name: count, dtype: int64"
      ]
     },
     "execution_count": 15,
     "metadata": {},
     "output_type": "execute_result"
    }
   ],
   "source": [
    "#Quais os valores?\n",
    "col_treineiro = microdadosEnem['IN_TREINEIRO']\n",
    "col_treineiro.value_counts()"
   ]
  },
  {
   "cell_type": "markdown",
   "id": "ab5a3f07",
   "metadata": {},
   "source": [
    "Segundo nosso dicionário da base de dados:\n",
    "IN_TREINEIRO > Indica se o inscrito fez a prova com intuito de apenas treinar seus conhecimentos\n",
    "1\tSim\n",
    "0\tNão"
   ]
  },
  {
   "cell_type": "code",
   "execution_count": 16,
   "id": "0b2f32dd",
   "metadata": {},
   "outputs": [
    {
     "data": {
      "text/plain": [
       "IN_TREINEIRO\n",
       "0    2963373\n",
       "1     512732\n",
       "Name: count, dtype: int64"
      ]
     },
     "execution_count": 16,
     "metadata": {},
     "output_type": "execute_result"
    }
   ],
   "source": [
    "#Devido ao tempo de processamento, criei a variavel \"dist_treineiro\" para manipulação da porcentagem\n",
    "dist_treineiro = col_treineiro.value_counts()\n",
    "dist_treineiro"
   ]
  },
  {
   "cell_type": "code",
   "execution_count": 17,
   "id": "2eb7f13a",
   "metadata": {},
   "outputs": [
    {
     "data": {
      "text/plain": [
       "[85.24981264950281, 14.75018735049718]"
      ]
     },
     "execution_count": 17,
     "metadata": {},
     "output_type": "execute_result"
    }
   ],
   "source": [
    "#REQUISITO 4: Usando estatística\n",
    "percent_treineiro = [100*x/dist_treineiro.sum() for x in dist_treineiro]\n",
    "percent_treineiro"
   ]
  },
  {
   "cell_type": "code",
   "execution_count": 18,
   "id": "a3a29e8e",
   "metadata": {},
   "outputs": [
    {
     "data": {
      "text/plain": [
       "'A porcentagem de treineiros em 2022 foi de 14.75%.'"
      ]
     },
     "execution_count": 18,
     "metadata": {},
     "output_type": "execute_result"
    }
   ],
   "source": [
    "#Selecionando apenas os treineiros\n",
    "list_treineiro = [85.24981264950281, 14.75018735049718]\n",
    "percent_sotreineiro = list_treineiro[1]\n",
    "print = (f'A porcentagem de treineiros em 2022 foi de {percent_sotreineiro:.2f}%.')\n",
    "print"
   ]
  },
  {
   "cell_type": "markdown",
   "id": "d696511e",
   "metadata": {},
   "source": [
    "PERGUNTA 6: Quem tem melhor nota de redação no ENEM? Alunos de escolas públicas ou particulares?"
   ]
  },
  {
   "cell_type": "code",
   "execution_count": 19,
   "id": "2dd98682",
   "metadata": {},
   "outputs": [
    {
     "data": {
      "text/html": [
       "<div>\n",
       "<style scoped>\n",
       "    .dataframe tbody tr th:only-of-type {\n",
       "        vertical-align: middle;\n",
       "    }\n",
       "\n",
       "    .dataframe tbody tr th {\n",
       "        vertical-align: top;\n",
       "    }\n",
       "\n",
       "    .dataframe thead th {\n",
       "        text-align: right;\n",
       "    }\n",
       "</style>\n",
       "<table border=\"1\" class=\"dataframe\">\n",
       "  <thead>\n",
       "    <tr style=\"text-align: right;\">\n",
       "      <th></th>\n",
       "      <th>TP_ESCOLA</th>\n",
       "      <th>NU_NOTA_REDACAO</th>\n",
       "    </tr>\n",
       "  </thead>\n",
       "  <tbody>\n",
       "    <tr>\n",
       "      <th>0</th>\n",
       "      <td>1</td>\n",
       "      <td>NaN</td>\n",
       "    </tr>\n",
       "    <tr>\n",
       "      <th>1</th>\n",
       "      <td>1</td>\n",
       "      <td>NaN</td>\n",
       "    </tr>\n",
       "    <tr>\n",
       "      <th>2</th>\n",
       "      <td>1</td>\n",
       "      <td>760.0</td>\n",
       "    </tr>\n",
       "    <tr>\n",
       "      <th>3</th>\n",
       "      <td>1</td>\n",
       "      <td>320.0</td>\n",
       "    </tr>\n",
       "    <tr>\n",
       "      <th>4</th>\n",
       "      <td>1</td>\n",
       "      <td>NaN</td>\n",
       "    </tr>\n",
       "    <tr>\n",
       "      <th>...</th>\n",
       "      <td>...</td>\n",
       "      <td>...</td>\n",
       "    </tr>\n",
       "    <tr>\n",
       "      <th>3476100</th>\n",
       "      <td>2</td>\n",
       "      <td>NaN</td>\n",
       "    </tr>\n",
       "    <tr>\n",
       "      <th>3476101</th>\n",
       "      <td>2</td>\n",
       "      <td>NaN</td>\n",
       "    </tr>\n",
       "    <tr>\n",
       "      <th>3476102</th>\n",
       "      <td>2</td>\n",
       "      <td>660.0</td>\n",
       "    </tr>\n",
       "    <tr>\n",
       "      <th>3476103</th>\n",
       "      <td>3</td>\n",
       "      <td>NaN</td>\n",
       "    </tr>\n",
       "    <tr>\n",
       "      <th>3476104</th>\n",
       "      <td>2</td>\n",
       "      <td>NaN</td>\n",
       "    </tr>\n",
       "  </tbody>\n",
       "</table>\n",
       "<p>3476105 rows × 2 columns</p>\n",
       "</div>"
      ],
      "text/plain": [
       "         TP_ESCOLA  NU_NOTA_REDACAO\n",
       "0                1              NaN\n",
       "1                1              NaN\n",
       "2                1            760.0\n",
       "3                1            320.0\n",
       "4                1              NaN\n",
       "...            ...              ...\n",
       "3476100          2              NaN\n",
       "3476101          2              NaN\n",
       "3476102          2            660.0\n",
       "3476103          3              NaN\n",
       "3476104          2              NaN\n",
       "\n",
       "[3476105 rows x 2 columns]"
      ]
     },
     "execution_count": 19,
     "metadata": {},
     "output_type": "execute_result"
    }
   ],
   "source": [
    "#Selecionando as colunas referentes a Tipo de Escola e Nota de Redação\n",
    "col_selecionadas = ['TP_ESCOLA','NU_NOTA_REDACAO']\n",
    "microdados_escola_notas = microdadosEnem.filter(items=col_selecionadas)\n",
    "microdados_escola_notas"
   ]
  },
  {
   "cell_type": "code",
   "execution_count": 69,
   "id": "806c19cf",
   "metadata": {},
   "outputs": [
    {
     "data": {
      "text/html": [
       "<div>\n",
       "<style scoped>\n",
       "    .dataframe tbody tr th:only-of-type {\n",
       "        vertical-align: middle;\n",
       "    }\n",
       "\n",
       "    .dataframe tbody tr th {\n",
       "        vertical-align: top;\n",
       "    }\n",
       "\n",
       "    .dataframe thead th {\n",
       "        text-align: right;\n",
       "    }\n",
       "</style>\n",
       "<table border=\"1\" class=\"dataframe\">\n",
       "  <thead>\n",
       "    <tr style=\"text-align: right;\">\n",
       "      <th></th>\n",
       "      <th>TP_ESCOLA</th>\n",
       "      <th>NU_NOTA_REDACAO</th>\n",
       "    </tr>\n",
       "  </thead>\n",
       "  <tbody>\n",
       "    <tr>\n",
       "      <th>2</th>\n",
       "      <td>1</td>\n",
       "      <td>760.0</td>\n",
       "    </tr>\n",
       "    <tr>\n",
       "      <th>3</th>\n",
       "      <td>1</td>\n",
       "      <td>320.0</td>\n",
       "    </tr>\n",
       "    <tr>\n",
       "      <th>7</th>\n",
       "      <td>1</td>\n",
       "      <td>440.0</td>\n",
       "    </tr>\n",
       "    <tr>\n",
       "      <th>9</th>\n",
       "      <td>1</td>\n",
       "      <td>360.0</td>\n",
       "    </tr>\n",
       "    <tr>\n",
       "      <th>11</th>\n",
       "      <td>3</td>\n",
       "      <td>940.0</td>\n",
       "    </tr>\n",
       "    <tr>\n",
       "      <th>...</th>\n",
       "      <td>...</td>\n",
       "      <td>...</td>\n",
       "    </tr>\n",
       "    <tr>\n",
       "      <th>3476095</th>\n",
       "      <td>1</td>\n",
       "      <td>580.0</td>\n",
       "    </tr>\n",
       "    <tr>\n",
       "      <th>3476097</th>\n",
       "      <td>1</td>\n",
       "      <td>740.0</td>\n",
       "    </tr>\n",
       "    <tr>\n",
       "      <th>3476098</th>\n",
       "      <td>2</td>\n",
       "      <td>580.0</td>\n",
       "    </tr>\n",
       "    <tr>\n",
       "      <th>3476099</th>\n",
       "      <td>1</td>\n",
       "      <td>520.0</td>\n",
       "    </tr>\n",
       "    <tr>\n",
       "      <th>3476102</th>\n",
       "      <td>2</td>\n",
       "      <td>660.0</td>\n",
       "    </tr>\n",
       "  </tbody>\n",
       "</table>\n",
       "<p>2493442 rows × 2 columns</p>\n",
       "</div>"
      ],
      "text/plain": [
       "         TP_ESCOLA  NU_NOTA_REDACAO\n",
       "2                1            760.0\n",
       "3                1            320.0\n",
       "7                1            440.0\n",
       "9                1            360.0\n",
       "11               3            940.0\n",
       "...            ...              ...\n",
       "3476095          1            580.0\n",
       "3476097          1            740.0\n",
       "3476098          2            580.0\n",
       "3476099          1            520.0\n",
       "3476102          2            660.0\n",
       "\n",
       "[2493442 rows x 2 columns]"
      ]
     },
     "execution_count": 69,
     "metadata": {},
     "output_type": "execute_result"
    }
   ],
   "source": [
    "#Requisito 5: Dropna\n",
    "#Retirando os inscritos que não tiveram Nota de Redação contabilizada\n",
    "microdados_escola_notas = microdados_escola_notas.dropna()\n",
    "microdados_escola_notas"
   ]
  },
  {
   "cell_type": "code",
   "execution_count": 77,
   "id": "1d180032",
   "metadata": {},
   "outputs": [],
   "source": [
    "#Entendendo a tabela: Pelo nosso dicionário, sabemos que \"1\" = Não informado; \"2\" = Escola Pública, \"3\" = Escola Particular\n",
    "#Requisito 6: Usar rename\n",
    "tipo_escola = {1: 'Não Informado', 2: 'Pública', 3: 'Privada'}"
   ]
  },
  {
   "cell_type": "markdown",
   "id": "c7cf169a",
   "metadata": {},
   "source": [
    "RESPOSTA 6: Pela média, podemos auferir que alunos de Escolas Particulares tiram, em média, 180 pontos a mais que alunos de escolas públicas"
   ]
  },
  {
   "cell_type": "code",
   "execution_count": 78,
   "id": "db7f8c66",
   "metadata": {},
   "outputs": [
    {
     "data": {
      "text/html": [
       "<div>\n",
       "<style scoped>\n",
       "    .dataframe tbody tr th:only-of-type {\n",
       "        vertical-align: middle;\n",
       "    }\n",
       "\n",
       "    .dataframe tbody tr th {\n",
       "        vertical-align: top;\n",
       "    }\n",
       "\n",
       "    .dataframe thead th {\n",
       "        text-align: right;\n",
       "    }\n",
       "</style>\n",
       "<table border=\"1\" class=\"dataframe\">\n",
       "  <thead>\n",
       "    <tr style=\"text-align: right;\">\n",
       "      <th></th>\n",
       "      <th>NU_NOTA_REDACAO</th>\n",
       "    </tr>\n",
       "    <tr>\n",
       "      <th>TP_ESCOLA</th>\n",
       "      <th></th>\n",
       "    </tr>\n",
       "  </thead>\n",
       "  <tbody>\n",
       "    <tr>\n",
       "      <th>Não Informado</th>\n",
       "      <td>623.365812</td>\n",
       "    </tr>\n",
       "    <tr>\n",
       "      <th>Privada</th>\n",
       "      <td>751.272068</td>\n",
       "    </tr>\n",
       "    <tr>\n",
       "      <th>Pública</th>\n",
       "      <td>576.635138</td>\n",
       "    </tr>\n",
       "  </tbody>\n",
       "</table>\n",
       "</div>"
      ],
      "text/plain": [
       "               NU_NOTA_REDACAO\n",
       "TP_ESCOLA                     \n",
       "Não Informado       623.365812\n",
       "Privada             751.272068\n",
       "Pública             576.635138"
      ]
     },
     "execution_count": 78,
     "metadata": {},
     "output_type": "execute_result"
    }
   ],
   "source": [
    "escola_notas = microdados_escola_notas.groupby('TP_ESCOLA').mean()\n",
    "escola_notas.rename(index=tipo_escola, inplace=True)\n",
    "escola_notas"
   ]
  },
  {
   "cell_type": "code",
   "execution_count": 101,
   "id": "1dd75dc4",
   "metadata": {},
   "outputs": [
    {
     "data": {
      "text/html": [
       "<div>\n",
       "<style scoped>\n",
       "    .dataframe tbody tr th:only-of-type {\n",
       "        vertical-align: middle;\n",
       "    }\n",
       "\n",
       "    .dataframe tbody tr th {\n",
       "        vertical-align: top;\n",
       "    }\n",
       "\n",
       "    .dataframe thead th {\n",
       "        text-align: right;\n",
       "    }\n",
       "</style>\n",
       "<table border=\"1\" class=\"dataframe\">\n",
       "  <thead>\n",
       "    <tr style=\"text-align: right;\">\n",
       "      <th></th>\n",
       "      <th>TP_ESCOLA</th>\n",
       "      <th>NU_NOTA_REDACAO</th>\n",
       "    </tr>\n",
       "  </thead>\n",
       "  <tbody>\n",
       "    <tr>\n",
       "      <th>Pública</th>\n",
       "      <td>Não Informado</td>\n",
       "      <td>760.0</td>\n",
       "    </tr>\n",
       "    <tr>\n",
       "      <th>Privada</th>\n",
       "      <td>Não Informado</td>\n",
       "      <td>320.0</td>\n",
       "    </tr>\n",
       "    <tr>\n",
       "      <th>7</th>\n",
       "      <td>Não Informado</td>\n",
       "      <td>440.0</td>\n",
       "    </tr>\n",
       "    <tr>\n",
       "      <th>9</th>\n",
       "      <td>Não Informado</td>\n",
       "      <td>360.0</td>\n",
       "    </tr>\n",
       "    <tr>\n",
       "      <th>11</th>\n",
       "      <td>Privada</td>\n",
       "      <td>940.0</td>\n",
       "    </tr>\n",
       "    <tr>\n",
       "      <th>...</th>\n",
       "      <td>...</td>\n",
       "      <td>...</td>\n",
       "    </tr>\n",
       "    <tr>\n",
       "      <th>3476095</th>\n",
       "      <td>Não Informado</td>\n",
       "      <td>580.0</td>\n",
       "    </tr>\n",
       "    <tr>\n",
       "      <th>3476097</th>\n",
       "      <td>Não Informado</td>\n",
       "      <td>740.0</td>\n",
       "    </tr>\n",
       "    <tr>\n",
       "      <th>3476098</th>\n",
       "      <td>Pública</td>\n",
       "      <td>580.0</td>\n",
       "    </tr>\n",
       "    <tr>\n",
       "      <th>3476099</th>\n",
       "      <td>Não Informado</td>\n",
       "      <td>520.0</td>\n",
       "    </tr>\n",
       "    <tr>\n",
       "      <th>3476102</th>\n",
       "      <td>Pública</td>\n",
       "      <td>660.0</td>\n",
       "    </tr>\n",
       "  </tbody>\n",
       "</table>\n",
       "<p>2493442 rows × 2 columns</p>\n",
       "</div>"
      ],
      "text/plain": [
       "             TP_ESCOLA  NU_NOTA_REDACAO\n",
       "Pública  Não Informado            760.0\n",
       "Privada  Não Informado            320.0\n",
       "7        Não Informado            440.0\n",
       "9        Não Informado            360.0\n",
       "11             Privada            940.0\n",
       "...                ...              ...\n",
       "3476095  Não Informado            580.0\n",
       "3476097  Não Informado            740.0\n",
       "3476098        Pública            580.0\n",
       "3476099  Não Informado            520.0\n",
       "3476102        Pública            660.0\n",
       "\n",
       "[2493442 rows x 2 columns]"
      ]
     },
     "execution_count": 101,
     "metadata": {},
     "output_type": "execute_result"
    }
   ],
   "source": [
    "#Requisito 7: Exportando um dataframe. Nesse caso, a tabela atualizada da relação NOTA REDAÇÃO X TIPO DE ESCOLA.\n",
    "tipo_escola = {1: 'Nao Informado', 2: 'Publica', 3: 'Privada'}\n",
    "\n",
    "#Renomeando as linhas\n",
    "microdados_escola_notas['TP_ESCOLA'] = microdados_escola_notas['TP_ESCOLA'].rename(tipo_escola)\n",
    "microdados_escola_notas"
   ]
  },
  {
   "cell_type": "code",
   "execution_count": 102,
   "id": "2aba649a",
   "metadata": {},
   "outputs": [],
   "source": [
    "microdados_escola_notas.to_csv(\"Relação Escola_vs_Notas.csv\")"
   ]
  },
  {
   "cell_type": "markdown",
   "id": "9db4c591",
   "metadata": {},
   "source": [
    "PERGUNTA 7: Por último, analisei o impacto do acesso à computadores pessoais podem ter em notas de redação."
   ]
  },
  {
   "cell_type": "code",
   "execution_count": 103,
   "id": "c082c024",
   "metadata": {},
   "outputs": [
    {
     "data": {
      "text/html": [
       "<div>\n",
       "<style scoped>\n",
       "    .dataframe tbody tr th:only-of-type {\n",
       "        vertical-align: middle;\n",
       "    }\n",
       "\n",
       "    .dataframe tbody tr th {\n",
       "        vertical-align: top;\n",
       "    }\n",
       "\n",
       "    .dataframe thead th {\n",
       "        text-align: right;\n",
       "    }\n",
       "</style>\n",
       "<table border=\"1\" class=\"dataframe\">\n",
       "  <thead>\n",
       "    <tr style=\"text-align: right;\">\n",
       "      <th></th>\n",
       "      <th>NU_INSCRICAO</th>\n",
       "      <th>NU_NOTA_REDACAO</th>\n",
       "      <th>Q024</th>\n",
       "      <th>Q025</th>\n",
       "    </tr>\n",
       "  </thead>\n",
       "  <tbody>\n",
       "    <tr>\n",
       "      <th>0</th>\n",
       "      <td>210057943671</td>\n",
       "      <td>NaN</td>\n",
       "      <td>A</td>\n",
       "      <td>A</td>\n",
       "    </tr>\n",
       "    <tr>\n",
       "      <th>1</th>\n",
       "      <td>210057516120</td>\n",
       "      <td>NaN</td>\n",
       "      <td>E</td>\n",
       "      <td>B</td>\n",
       "    </tr>\n",
       "    <tr>\n",
       "      <th>2</th>\n",
       "      <td>210057280536</td>\n",
       "      <td>760.0</td>\n",
       "      <td>A</td>\n",
       "      <td>B</td>\n",
       "    </tr>\n",
       "    <tr>\n",
       "      <th>3</th>\n",
       "      <td>210055724397</td>\n",
       "      <td>320.0</td>\n",
       "      <td>B</td>\n",
       "      <td>B</td>\n",
       "    </tr>\n",
       "    <tr>\n",
       "      <th>4</th>\n",
       "      <td>210055097896</td>\n",
       "      <td>NaN</td>\n",
       "      <td>A</td>\n",
       "      <td>A</td>\n",
       "    </tr>\n",
       "  </tbody>\n",
       "</table>\n",
       "</div>"
      ],
      "text/plain": [
       "   NU_INSCRICAO  NU_NOTA_REDACAO Q024 Q025\n",
       "0  210057943671              NaN    A    A\n",
       "1  210057516120              NaN    E    B\n",
       "2  210057280536            760.0    A    B\n",
       "3  210055724397            320.0    B    B\n",
       "4  210055097896              NaN    A    A"
      ]
     },
     "execution_count": 103,
     "metadata": {},
     "output_type": "execute_result"
    }
   ],
   "source": [
    "col_selecionadas = ['NU_INSCRICAO','NU_NOTA_REDACAO','Q024', 'Q025']\n",
    "microdadosEnem_7 = microdadosEnem.filter(items=col_selecionadas)\n",
    "microdadosEnem_7.head()"
   ]
  },
  {
   "cell_type": "code",
   "execution_count": 104,
   "id": "9c21e12e",
   "metadata": {},
   "outputs": [
    {
     "name": "stderr",
     "output_type": "stream",
     "text": [
      "C:\\Users\\azmavila\\AppData\\Local\\Temp\\ipykernel_26368\\1108450106.py:3: FutureWarning: Setting an item of incompatible dtype is deprecated and will raise in a future error of pandas. Value '0' has dtype incompatible with float64, please explicitly cast to a compatible dtype first.\n",
      "  microdadosEnem_7['NU_NOTA_REDACAO'].fillna('0', inplace=True)\n"
     ]
    },
    {
     "data": {
      "text/html": [
       "<div>\n",
       "<style scoped>\n",
       "    .dataframe tbody tr th:only-of-type {\n",
       "        vertical-align: middle;\n",
       "    }\n",
       "\n",
       "    .dataframe tbody tr th {\n",
       "        vertical-align: top;\n",
       "    }\n",
       "\n",
       "    .dataframe thead th {\n",
       "        text-align: right;\n",
       "    }\n",
       "</style>\n",
       "<table border=\"1\" class=\"dataframe\">\n",
       "  <thead>\n",
       "    <tr style=\"text-align: right;\">\n",
       "      <th></th>\n",
       "      <th>NU_INSCRICAO</th>\n",
       "      <th>NU_NOTA_REDACAO</th>\n",
       "      <th>Q024</th>\n",
       "      <th>Q025</th>\n",
       "    </tr>\n",
       "  </thead>\n",
       "  <tbody>\n",
       "    <tr>\n",
       "      <th>0</th>\n",
       "      <td>210057943671</td>\n",
       "      <td>0</td>\n",
       "      <td>A</td>\n",
       "      <td>A</td>\n",
       "    </tr>\n",
       "    <tr>\n",
       "      <th>1</th>\n",
       "      <td>210057516120</td>\n",
       "      <td>0</td>\n",
       "      <td>E</td>\n",
       "      <td>B</td>\n",
       "    </tr>\n",
       "    <tr>\n",
       "      <th>2</th>\n",
       "      <td>210057280536</td>\n",
       "      <td>760.0</td>\n",
       "      <td>A</td>\n",
       "      <td>B</td>\n",
       "    </tr>\n",
       "    <tr>\n",
       "      <th>3</th>\n",
       "      <td>210055724397</td>\n",
       "      <td>320.0</td>\n",
       "      <td>B</td>\n",
       "      <td>B</td>\n",
       "    </tr>\n",
       "    <tr>\n",
       "      <th>4</th>\n",
       "      <td>210055097896</td>\n",
       "      <td>0</td>\n",
       "      <td>A</td>\n",
       "      <td>A</td>\n",
       "    </tr>\n",
       "    <tr>\n",
       "      <th>...</th>\n",
       "      <td>...</td>\n",
       "      <td>...</td>\n",
       "      <td>...</td>\n",
       "      <td>...</td>\n",
       "    </tr>\n",
       "    <tr>\n",
       "      <th>3476100</th>\n",
       "      <td>210056389903</td>\n",
       "      <td>0</td>\n",
       "      <td>A</td>\n",
       "      <td>B</td>\n",
       "    </tr>\n",
       "    <tr>\n",
       "      <th>3476101</th>\n",
       "      <td>210057205644</td>\n",
       "      <td>0</td>\n",
       "      <td>B</td>\n",
       "      <td>B</td>\n",
       "    </tr>\n",
       "    <tr>\n",
       "      <th>3476102</th>\n",
       "      <td>210056699189</td>\n",
       "      <td>660.0</td>\n",
       "      <td>B</td>\n",
       "      <td>B</td>\n",
       "    </tr>\n",
       "    <tr>\n",
       "      <th>3476103</th>\n",
       "      <td>210056983033</td>\n",
       "      <td>0</td>\n",
       "      <td>B</td>\n",
       "      <td>B</td>\n",
       "    </tr>\n",
       "    <tr>\n",
       "      <th>3476104</th>\n",
       "      <td>210056307777</td>\n",
       "      <td>0</td>\n",
       "      <td>C</td>\n",
       "      <td>B</td>\n",
       "    </tr>\n",
       "  </tbody>\n",
       "</table>\n",
       "<p>3476105 rows × 4 columns</p>\n",
       "</div>"
      ],
      "text/plain": [
       "         NU_INSCRICAO NU_NOTA_REDACAO Q024 Q025\n",
       "0        210057943671               0    A    A\n",
       "1        210057516120               0    E    B\n",
       "2        210057280536           760.0    A    B\n",
       "3        210055724397           320.0    B    B\n",
       "4        210055097896               0    A    A\n",
       "...               ...             ...  ...  ...\n",
       "3476100  210056389903               0    A    B\n",
       "3476101  210057205644               0    B    B\n",
       "3476102  210056699189           660.0    B    B\n",
       "3476103  210056983033               0    B    B\n",
       "3476104  210056307777               0    C    B\n",
       "\n",
       "[3476105 rows x 4 columns]"
      ]
     },
     "execution_count": 104,
     "metadata": {},
     "output_type": "execute_result"
    }
   ],
   "source": [
    "#Requisito 8: Usando fillna\n",
    "#Tendo em vista que as notas podem ser 0(zero), atribui a nota -1 para aqueles que não entregaram redação.\n",
    "microdadosEnem_7['NU_NOTA_REDACAO'].fillna('0', inplace=True)\n",
    "microdadosEnem_7"
   ]
  },
  {
   "cell_type": "code",
   "execution_count": 105,
   "id": "888e1fea",
   "metadata": {},
   "outputs": [],
   "source": [
    "#Renomeando as linhas\n",
    "dicionario_internet = {'A': 'Não.', 'B': 'Sim.'}\n",
    "dicionario_computador = {\n",
    "    'A': 'Não.',\n",
    "    'B': 'Sim, um.',\n",
    "    'C': 'Sim, dois.',\n",
    "    'D': 'Sim, três.',\n",
    "    'E': 'Sim, quatro ou mais.'\n",
    "}\n",
    "\n",
    "#Requisito 9: Criando novas colunas\n",
    "microdadosEnem_7['TEM_INTERNET'] = [dicionario_internet[resp] for resp in microdadosEnem.Q025]\n",
    "microdadosEnem_7['TEM_COMPUTADOR'] = [dicionario_computador[resp] for resp in microdadosEnem.Q024]"
   ]
  },
  {
   "cell_type": "code",
   "execution_count": 106,
   "id": "f48123a7",
   "metadata": {},
   "outputs": [
    {
     "data": {
      "text/html": [
       "<div>\n",
       "<style scoped>\n",
       "    .dataframe tbody tr th:only-of-type {\n",
       "        vertical-align: middle;\n",
       "    }\n",
       "\n",
       "    .dataframe tbody tr th {\n",
       "        vertical-align: top;\n",
       "    }\n",
       "\n",
       "    .dataframe thead th {\n",
       "        text-align: right;\n",
       "    }\n",
       "</style>\n",
       "<table border=\"1\" class=\"dataframe\">\n",
       "  <thead>\n",
       "    <tr style=\"text-align: right;\">\n",
       "      <th></th>\n",
       "      <th>NU_INSCRICAO</th>\n",
       "      <th>NU_NOTA_REDACAO</th>\n",
       "      <th>Q024</th>\n",
       "      <th>Q025</th>\n",
       "      <th>TEM_INTERNET</th>\n",
       "      <th>TEM_COMPUTADOR</th>\n",
       "    </tr>\n",
       "  </thead>\n",
       "  <tbody>\n",
       "    <tr>\n",
       "      <th>0</th>\n",
       "      <td>210057943671</td>\n",
       "      <td>0</td>\n",
       "      <td>A</td>\n",
       "      <td>A</td>\n",
       "      <td>Não.</td>\n",
       "      <td>Não.</td>\n",
       "    </tr>\n",
       "    <tr>\n",
       "      <th>1</th>\n",
       "      <td>210057516120</td>\n",
       "      <td>0</td>\n",
       "      <td>E</td>\n",
       "      <td>B</td>\n",
       "      <td>Sim.</td>\n",
       "      <td>Sim, quatro ou mais.</td>\n",
       "    </tr>\n",
       "    <tr>\n",
       "      <th>2</th>\n",
       "      <td>210057280536</td>\n",
       "      <td>760.0</td>\n",
       "      <td>A</td>\n",
       "      <td>B</td>\n",
       "      <td>Sim.</td>\n",
       "      <td>Não.</td>\n",
       "    </tr>\n",
       "    <tr>\n",
       "      <th>3</th>\n",
       "      <td>210055724397</td>\n",
       "      <td>320.0</td>\n",
       "      <td>B</td>\n",
       "      <td>B</td>\n",
       "      <td>Sim.</td>\n",
       "      <td>Sim, um.</td>\n",
       "    </tr>\n",
       "    <tr>\n",
       "      <th>4</th>\n",
       "      <td>210055097896</td>\n",
       "      <td>0</td>\n",
       "      <td>A</td>\n",
       "      <td>A</td>\n",
       "      <td>Não.</td>\n",
       "      <td>Não.</td>\n",
       "    </tr>\n",
       "  </tbody>\n",
       "</table>\n",
       "</div>"
      ],
      "text/plain": [
       "   NU_INSCRICAO NU_NOTA_REDACAO Q024 Q025 TEM_INTERNET        TEM_COMPUTADOR\n",
       "0  210057943671               0    A    A         Não.                  Não.\n",
       "1  210057516120               0    E    B         Sim.  Sim, quatro ou mais.\n",
       "2  210057280536           760.0    A    B         Sim.                  Não.\n",
       "3  210055724397           320.0    B    B         Sim.              Sim, um.\n",
       "4  210055097896               0    A    A         Não.                  Não."
      ]
     },
     "execution_count": 106,
     "metadata": {},
     "output_type": "execute_result"
    }
   ],
   "source": [
    "microdadosEnem_7.head()"
   ]
  },
  {
   "cell_type": "markdown",
   "id": "775ce44a",
   "metadata": {},
   "source": [
    "PERGUNTA 7.2: Quantos alunos têm computador e internet em casa?"
   ]
  },
  {
   "cell_type": "code",
   "execution_count": 107,
   "id": "6470bb1b",
   "metadata": {},
   "outputs": [
    {
     "data": {
      "text/html": [
       "<div>\n",
       "<style scoped>\n",
       "    .dataframe tbody tr th:only-of-type {\n",
       "        vertical-align: middle;\n",
       "    }\n",
       "\n",
       "    .dataframe tbody tr th {\n",
       "        vertical-align: top;\n",
       "    }\n",
       "\n",
       "    .dataframe thead th {\n",
       "        text-align: right;\n",
       "    }\n",
       "</style>\n",
       "<table border=\"1\" class=\"dataframe\">\n",
       "  <thead>\n",
       "    <tr style=\"text-align: right;\">\n",
       "      <th></th>\n",
       "      <th>NU_INSCRICAO</th>\n",
       "    </tr>\n",
       "    <tr>\n",
       "      <th>TEM_COMPUTADOR</th>\n",
       "      <th></th>\n",
       "    </tr>\n",
       "  </thead>\n",
       "  <tbody>\n",
       "    <tr>\n",
       "      <th>Não.</th>\n",
       "      <td>1606940</td>\n",
       "    </tr>\n",
       "    <tr>\n",
       "      <th>Sim, um.</th>\n",
       "      <td>1329603</td>\n",
       "    </tr>\n",
       "    <tr>\n",
       "      <th>Sim, dois.</th>\n",
       "      <td>346479</td>\n",
       "    </tr>\n",
       "    <tr>\n",
       "      <th>Sim, três.</th>\n",
       "      <td>129391</td>\n",
       "    </tr>\n",
       "    <tr>\n",
       "      <th>Sim, quatro ou mais.</th>\n",
       "      <td>63692</td>\n",
       "    </tr>\n",
       "  </tbody>\n",
       "</table>\n",
       "</div>"
      ],
      "text/plain": [
       "                      NU_INSCRICAO\n",
       "TEM_COMPUTADOR                    \n",
       "Não.                       1606940\n",
       "Sim, um.                   1329603\n",
       "Sim, dois.                  346479\n",
       "Sim, três.                  129391\n",
       "Sim, quatro ou mais.         63692"
      ]
     },
     "execution_count": 107,
     "metadata": {},
     "output_type": "execute_result"
    }
   ],
   "source": [
    "microdadosEnem_7.filter(items=['NU_INSCRICAO', 'TEM_COMPUTADOR']).groupby('TEM_COMPUTADOR').count().sort_values(by='NU_INSCRICAO', ascending=False)"
   ]
  },
  {
   "cell_type": "code",
   "execution_count": 108,
   "id": "ec39c8d9",
   "metadata": {},
   "outputs": [
    {
     "data": {
      "text/html": [
       "<div>\n",
       "<style scoped>\n",
       "    .dataframe tbody tr th:only-of-type {\n",
       "        vertical-align: middle;\n",
       "    }\n",
       "\n",
       "    .dataframe tbody tr th {\n",
       "        vertical-align: top;\n",
       "    }\n",
       "\n",
       "    .dataframe thead th {\n",
       "        text-align: right;\n",
       "    }\n",
       "</style>\n",
       "<table border=\"1\" class=\"dataframe\">\n",
       "  <thead>\n",
       "    <tr style=\"text-align: right;\">\n",
       "      <th></th>\n",
       "      <th>NU_INSCRICAO</th>\n",
       "    </tr>\n",
       "    <tr>\n",
       "      <th>TEM_INTERNET</th>\n",
       "      <th></th>\n",
       "    </tr>\n",
       "  </thead>\n",
       "  <tbody>\n",
       "    <tr>\n",
       "      <th>Sim.</th>\n",
       "      <td>3149732</td>\n",
       "    </tr>\n",
       "    <tr>\n",
       "      <th>Não.</th>\n",
       "      <td>326373</td>\n",
       "    </tr>\n",
       "  </tbody>\n",
       "</table>\n",
       "</div>"
      ],
      "text/plain": [
       "              NU_INSCRICAO\n",
       "TEM_INTERNET              \n",
       "Sim.               3149732\n",
       "Não.                326373"
      ]
     },
     "execution_count": 108,
     "metadata": {},
     "output_type": "execute_result"
    }
   ],
   "source": [
    "microdadosEnem_7.filter(items=['NU_INSCRICAO', 'TEM_INTERNET']).groupby('TEM_INTERNET').count().sort_values(by='NU_INSCRICAO', ascending=False)"
   ]
  },
  {
   "cell_type": "markdown",
   "id": "9939c29e",
   "metadata": {},
   "source": [
    "Agora, sobre o impacto: Não é real, dentro dos métodos que consegui utilizar, média entre as notas de redação, visto que realizo as duas médias em separado, quando, na verdade, são questões respondidas em conjunto pelo candidato. Apesar disso, fica obvia a crescente em proporção ao acesso à internet e computadores, conforme segue."
   ]
  },
  {
   "cell_type": "code",
   "execution_count": 110,
   "id": "efe28bd5",
   "metadata": {},
   "outputs": [
    {
     "data": {
      "text/plain": [
       "TEM_COMPUTADOR\n",
       "Sim, quatro ou mais.    645.628964\n",
       "Sim, três.              622.993098\n",
       "Sim, dois.              570.684688\n",
       "Sim, um.                474.554615\n",
       "Não.                    368.223244\n",
       "Name: NU_NOTA_REDACAO, dtype: float64"
      ]
     },
     "execution_count": 110,
     "metadata": {},
     "output_type": "execute_result"
    }
   ],
   "source": [
    "# Convertendo 'NU_NOTA_REDACAO' para numérico\n",
    "microdadosEnem_7['NU_NOTA_REDACAO'] = pd.to_numeric(microdadosEnem_7['NU_NOTA_REDACAO'])\n",
    "\n",
    "#Selecionando os dados e agrupando para calcular a média\n",
    "selecionadas = microdadosEnem_7[['NU_NOTA_REDACAO', 'TEM_COMPUTADOR']] \n",
    "resultado_computador = selecionadas.groupby('TEM_COMPUTADOR')['NU_NOTA_REDACAO'].mean()\n",
    "\n",
    "#Resultado de média para quem têm ou não computador\n",
    "resultado_computador.sort_values(ascending=False)\n"
   ]
  },
  {
   "cell_type": "code",
   "execution_count": 111,
   "id": "1e1bd566",
   "metadata": {},
   "outputs": [
    {
     "data": {
      "text/plain": [
       "TEM_INTERNET\n",
       "Sim.    455.721350\n",
       "Não.    327.058733\n",
       "Name: NU_NOTA_REDACAO, dtype: float64"
      ]
     },
     "execution_count": 111,
     "metadata": {},
     "output_type": "execute_result"
    }
   ],
   "source": [
    "# Replicando para TEM_INTERNET\n",
    "microdadosEnem_7['NU_NOTA_REDACAO'] = pd.to_numeric(microdadosEnem_7['NU_NOTA_REDACAO'])\n",
    "\n",
    "#Selecionando os dados e agrupando para calcular a média\n",
    "selecionadas1 = microdadosEnem_7[['NU_NOTA_REDACAO', 'TEM_INTERNET']] \n",
    "resultado_internet = selecionadas1.groupby('TEM_INTERNET')['NU_NOTA_REDACAO'].mean()\n",
    "\n",
    "#Resultado de média para quem têm ou não computador\n",
    "resultado_internet.sort_values(ascending=False)"
   ]
  }
 ],
 "metadata": {
  "kernelspec": {
   "display_name": "Python 3 (ipykernel)",
   "language": "python",
   "name": "python3"
  },
  "language_info": {
   "codemirror_mode": {
    "name": "ipython",
    "version": 3
   },
   "file_extension": ".py",
   "mimetype": "text/x-python",
   "name": "python",
   "nbconvert_exporter": "python",
   "pygments_lexer": "ipython3",
   "version": "3.11.5"
  }
 },
 "nbformat": 4,
 "nbformat_minor": 5
}
